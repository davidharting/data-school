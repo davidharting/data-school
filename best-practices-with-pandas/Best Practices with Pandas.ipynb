{
 "cells": [
  {
   "cell_type": "markdown",
   "metadata": {},
   "source": [
    "# Best Practices with Pandas\n",
    "\n",
    "Following along with [this presentation](https://www.youtube.com/watch?v=dPwLlJkSHLo&feature=youtu.be) from PyCon 2019."
   ]
  },
  {
   "cell_type": "markdown",
   "metadata": {},
   "source": [
    "# Introduction"
   ]
  },
  {
   "cell_type": "code",
   "execution_count": 2,
   "metadata": {
    "ExecuteTime": {
     "end_time": "2019-08-30T19:06:42.332470Z",
     "start_time": "2019-08-30T19:06:41.582537Z"
    }
   },
   "outputs": [],
   "source": [
    "import pandas as pd\n",
    "import matplotlib.pyplot as plt\n",
    "from datetime import datetime"
   ]
  },
  {
   "cell_type": "code",
   "execution_count": 3,
   "metadata": {
    "ExecuteTime": {
     "end_time": "2019-08-30T19:06:42.342912Z",
     "start_time": "2019-08-30T19:06:42.334398Z"
    }
   },
   "outputs": [],
   "source": [
    "%matplotlib inline"
   ]
  },
  {
   "cell_type": "code",
   "execution_count": 4,
   "metadata": {
    "ExecuteTime": {
     "end_time": "2019-08-30T19:06:42.467301Z",
     "start_time": "2019-08-30T19:06:42.345015Z"
    }
   },
   "outputs": [
    {
     "data": {
      "text/html": [
       "<div>\n",
       "<style scoped>\n",
       "    .dataframe tbody tr th:only-of-type {\n",
       "        vertical-align: middle;\n",
       "    }\n",
       "\n",
       "    .dataframe tbody tr th {\n",
       "        vertical-align: top;\n",
       "    }\n",
       "\n",
       "    .dataframe thead th {\n",
       "        text-align: right;\n",
       "    }\n",
       "</style>\n",
       "<table border=\"1\" class=\"dataframe\">\n",
       "  <thead>\n",
       "    <tr style=\"text-align: right;\">\n",
       "      <th></th>\n",
       "      <th>comments</th>\n",
       "      <th>description</th>\n",
       "      <th>duration</th>\n",
       "      <th>event</th>\n",
       "      <th>film_date</th>\n",
       "      <th>languages</th>\n",
       "      <th>main_speaker</th>\n",
       "      <th>name</th>\n",
       "      <th>num_speaker</th>\n",
       "      <th>published_date</th>\n",
       "      <th>ratings</th>\n",
       "      <th>related_talks</th>\n",
       "      <th>speaker_occupation</th>\n",
       "      <th>tags</th>\n",
       "      <th>title</th>\n",
       "      <th>url</th>\n",
       "      <th>views</th>\n",
       "    </tr>\n",
       "  </thead>\n",
       "  <tbody>\n",
       "    <tr>\n",
       "      <th>2297</th>\n",
       "      <td>13</td>\n",
       "      <td>Being alone takes its toll. Feel like it's tim...</td>\n",
       "      <td>269</td>\n",
       "      <td>TED Studio</td>\n",
       "      <td>1462147200</td>\n",
       "      <td>33</td>\n",
       "      <td>Rainn Wilson</td>\n",
       "      <td>Rainn Wilson: Ideas worth dating</td>\n",
       "      <td>1</td>\n",
       "      <td>1475837387</td>\n",
       "      <td>[{'id': 7, 'name': 'Funny', 'count': 374}, {'i...</td>\n",
       "      <td>[{'id': 1685, 'hero': 'https://pe.tedcdn.com/i...</td>\n",
       "      <td>Actor, writer</td>\n",
       "      <td>['adventure', 'curiosity', 'entertainment', 'e...</td>\n",
       "      <td>Ideas worth dating</td>\n",
       "      <td>https://www.ted.com/talks/rainn_wilson_ideas_w...</td>\n",
       "      <td>792297</td>\n",
       "    </tr>\n",
       "    <tr>\n",
       "      <th>40</th>\n",
       "      <td>58</td>\n",
       "      <td>Accepting his 2005 TED Prize, photographer Edw...</td>\n",
       "      <td>2065</td>\n",
       "      <td>TED2005</td>\n",
       "      <td>1108598400</td>\n",
       "      <td>22</td>\n",
       "      <td>Edward Burtynsky</td>\n",
       "      <td>Edward Burtynsky: My wish: Manufactured landsc...</td>\n",
       "      <td>1</td>\n",
       "      <td>1162253460</td>\n",
       "      <td>[{'id': 1, 'name': 'Beautiful', 'count': 106},...</td>\n",
       "      <td>[{'id': 279, 'hero': 'https://pe.tedcdn.com/im...</td>\n",
       "      <td>Photographer</td>\n",
       "      <td>['TED Prize', 'art', 'cities', 'culture', 'des...</td>\n",
       "      <td>My wish: Manufactured landscapes and green edu...</td>\n",
       "      <td>https://www.ted.com/talks/edward_burtynsky_on_...</td>\n",
       "      <td>975107</td>\n",
       "    </tr>\n",
       "  </tbody>\n",
       "</table>\n",
       "</div>"
      ],
      "text/plain": [
       "      comments                                        description  duration  \\\n",
       "2297        13  Being alone takes its toll. Feel like it's tim...       269   \n",
       "40          58  Accepting his 2005 TED Prize, photographer Edw...      2065   \n",
       "\n",
       "           event   film_date  languages      main_speaker  \\\n",
       "2297  TED Studio  1462147200         33      Rainn Wilson   \n",
       "40       TED2005  1108598400         22  Edward Burtynsky   \n",
       "\n",
       "                                                   name  num_speaker  \\\n",
       "2297                   Rainn Wilson: Ideas worth dating            1   \n",
       "40    Edward Burtynsky: My wish: Manufactured landsc...            1   \n",
       "\n",
       "      published_date                                            ratings  \\\n",
       "2297      1475837387  [{'id': 7, 'name': 'Funny', 'count': 374}, {'i...   \n",
       "40        1162253460  [{'id': 1, 'name': 'Beautiful', 'count': 106},...   \n",
       "\n",
       "                                          related_talks speaker_occupation  \\\n",
       "2297  [{'id': 1685, 'hero': 'https://pe.tedcdn.com/i...      Actor, writer   \n",
       "40    [{'id': 279, 'hero': 'https://pe.tedcdn.com/im...       Photographer   \n",
       "\n",
       "                                                   tags  \\\n",
       "2297  ['adventure', 'curiosity', 'entertainment', 'e...   \n",
       "40    ['TED Prize', 'art', 'cities', 'culture', 'des...   \n",
       "\n",
       "                                                  title  \\\n",
       "2297                                 Ideas worth dating   \n",
       "40    My wish: Manufactured landscapes and green edu...   \n",
       "\n",
       "                                                    url   views  \n",
       "2297  https://www.ted.com/talks/rainn_wilson_ideas_w...  792297  \n",
       "40    https://www.ted.com/talks/edward_burtynsky_on_...  975107  "
      ]
     },
     "execution_count": 4,
     "metadata": {},
     "output_type": "execute_result"
    }
   ],
   "source": [
    "ted = pd.read_csv('data/1. raw/ted.csv')\n",
    "ted.sample(2)"
   ]
  },
  {
   "cell_type": "code",
   "execution_count": 5,
   "metadata": {
    "ExecuteTime": {
     "end_time": "2019-08-30T19:06:42.472851Z",
     "start_time": "2019-08-30T19:06:42.469223Z"
    }
   },
   "outputs": [
    {
     "data": {
      "text/plain": [
       "(2550, 17)"
      ]
     },
     "execution_count": 5,
     "metadata": {},
     "output_type": "execute_result"
    }
   ],
   "source": [
    "ted.shape"
   ]
  },
  {
   "cell_type": "code",
   "execution_count": 6,
   "metadata": {
    "ExecuteTime": {
     "end_time": "2019-08-30T19:06:42.479778Z",
     "start_time": "2019-08-30T19:06:42.474563Z"
    }
   },
   "outputs": [
    {
     "data": {
      "text/plain": [
       "comments               int64\n",
       "description           object\n",
       "duration               int64\n",
       "event                 object\n",
       "film_date              int64\n",
       "languages              int64\n",
       "main_speaker          object\n",
       "name                  object\n",
       "num_speaker            int64\n",
       "published_date         int64\n",
       "ratings               object\n",
       "related_talks         object\n",
       "speaker_occupation    object\n",
       "tags                  object\n",
       "title                 object\n",
       "url                   object\n",
       "views                  int64\n",
       "dtype: object"
      ]
     },
     "execution_count": 6,
     "metadata": {},
     "output_type": "execute_result"
    }
   ],
   "source": [
    "ted.dtypes\n",
    "\n",
    "# Object columns are often strings, but can also be lists, dictionaries and other \n",
    "# arbitrary Python objects"
   ]
  },
  {
   "cell_type": "code",
   "execution_count": 7,
   "metadata": {
    "ExecuteTime": {
     "end_time": "2019-08-30T19:06:42.489340Z",
     "start_time": "2019-08-30T19:06:42.481544Z"
    }
   },
   "outputs": [
    {
     "data": {
      "text/plain": [
       "comments              0\n",
       "description           0\n",
       "duration              0\n",
       "event                 0\n",
       "film_date             0\n",
       "languages             0\n",
       "main_speaker          0\n",
       "name                  0\n",
       "num_speaker           0\n",
       "published_date        0\n",
       "ratings               0\n",
       "related_talks         0\n",
       "speaker_occupation    6\n",
       "tags                  0\n",
       "title                 0\n",
       "url                   0\n",
       "views                 0\n",
       "dtype: int64"
      ]
     },
     "execution_count": 7,
     "metadata": {},
     "output_type": "execute_result"
    }
   ],
   "source": [
    "# Check how many missing values are in each column\n",
    "# sum adds up along the \"0\" axis (the columns)\n",
    "# So isna() creates a series of boolean values\n",
    "# sum treats True as 1 and False as 0\n",
    "ted.isna().sum()"
   ]
  },
  {
   "cell_type": "markdown",
   "metadata": {},
   "source": [
    "# Which talks provoke the most online discussion?"
   ]
  },
  {
   "cell_type": "markdown",
   "metadata": {},
   "source": [
    "## Naive approach\n",
    "\n",
    "Just look at the ones with the most comments."
   ]
  },
  {
   "cell_type": "code",
   "execution_count": 8,
   "metadata": {
    "ExecuteTime": {
     "end_time": "2019-08-30T19:06:42.504218Z",
     "start_time": "2019-08-30T19:06:42.491043Z"
    }
   },
   "outputs": [
    {
     "data": {
      "text/html": [
       "<div>\n",
       "<style scoped>\n",
       "    .dataframe tbody tr th:only-of-type {\n",
       "        vertical-align: middle;\n",
       "    }\n",
       "\n",
       "    .dataframe tbody tr th {\n",
       "        vertical-align: top;\n",
       "    }\n",
       "\n",
       "    .dataframe thead th {\n",
       "        text-align: right;\n",
       "    }\n",
       "</style>\n",
       "<table border=\"1\" class=\"dataframe\">\n",
       "  <thead>\n",
       "    <tr style=\"text-align: right;\">\n",
       "      <th></th>\n",
       "      <th>main_speaker</th>\n",
       "      <th>name</th>\n",
       "      <th>comments</th>\n",
       "    </tr>\n",
       "  </thead>\n",
       "  <tbody>\n",
       "    <tr>\n",
       "      <th>96</th>\n",
       "      <td>Richard Dawkins</td>\n",
       "      <td>Richard Dawkins: Militant atheism</td>\n",
       "      <td>6404</td>\n",
       "    </tr>\n",
       "    <tr>\n",
       "      <th>0</th>\n",
       "      <td>Ken Robinson</td>\n",
       "      <td>Ken Robinson: Do schools kill creativity?</td>\n",
       "      <td>4553</td>\n",
       "    </tr>\n",
       "    <tr>\n",
       "      <th>644</th>\n",
       "      <td>Sam Harris</td>\n",
       "      <td>Sam Harris: Science can answer moral questions</td>\n",
       "      <td>3356</td>\n",
       "    </tr>\n",
       "    <tr>\n",
       "      <th>201</th>\n",
       "      <td>Jill Bolte Taylor</td>\n",
       "      <td>Jill Bolte Taylor: My stroke of insight</td>\n",
       "      <td>2877</td>\n",
       "    </tr>\n",
       "    <tr>\n",
       "      <th>1787</th>\n",
       "      <td>David Chalmers</td>\n",
       "      <td>David Chalmers: How do you explain consciousness?</td>\n",
       "      <td>2673</td>\n",
       "    </tr>\n",
       "    <tr>\n",
       "      <th>954</th>\n",
       "      <td>Janet Echelman</td>\n",
       "      <td>Janet Echelman: Taking imagination seriously</td>\n",
       "      <td>2492</td>\n",
       "    </tr>\n",
       "    <tr>\n",
       "      <th>840</th>\n",
       "      <td>Lesley Hazleton</td>\n",
       "      <td>Lesley Hazleton: On reading the Koran</td>\n",
       "      <td>2374</td>\n",
       "    </tr>\n",
       "    <tr>\n",
       "      <th>1346</th>\n",
       "      <td>Amy Cuddy</td>\n",
       "      <td>Amy Cuddy: Your body language may shape who yo...</td>\n",
       "      <td>2290</td>\n",
       "    </tr>\n",
       "    <tr>\n",
       "      <th>661</th>\n",
       "      <td>Michael Specter</td>\n",
       "      <td>Michael Specter: The danger of science denial</td>\n",
       "      <td>2272</td>\n",
       "    </tr>\n",
       "    <tr>\n",
       "      <th>677</th>\n",
       "      <td>Simon Sinek</td>\n",
       "      <td>Simon Sinek: How great leaders inspire action</td>\n",
       "      <td>1930</td>\n",
       "    </tr>\n",
       "  </tbody>\n",
       "</table>\n",
       "</div>"
      ],
      "text/plain": [
       "           main_speaker                                               name  \\\n",
       "96      Richard Dawkins                  Richard Dawkins: Militant atheism   \n",
       "0          Ken Robinson          Ken Robinson: Do schools kill creativity?   \n",
       "644          Sam Harris     Sam Harris: Science can answer moral questions   \n",
       "201   Jill Bolte Taylor            Jill Bolte Taylor: My stroke of insight   \n",
       "1787     David Chalmers  David Chalmers: How do you explain consciousness?   \n",
       "954      Janet Echelman       Janet Echelman: Taking imagination seriously   \n",
       "840     Lesley Hazleton              Lesley Hazleton: On reading the Koran   \n",
       "1346          Amy Cuddy  Amy Cuddy: Your body language may shape who yo...   \n",
       "661     Michael Specter      Michael Specter: The danger of science denial   \n",
       "677         Simon Sinek      Simon Sinek: How great leaders inspire action   \n",
       "\n",
       "      comments  \n",
       "96        6404  \n",
       "0         4553  \n",
       "644       3356  \n",
       "201       2877  \n",
       "1787      2673  \n",
       "954       2492  \n",
       "840       2374  \n",
       "1346      2290  \n",
       "661       2272  \n",
       "677       1930  "
      ]
     },
     "execution_count": 8,
     "metadata": {},
     "output_type": "execute_result"
    }
   ],
   "source": [
    "ted.sort_values(by='comments', ascending=False) \\\n",
    "  .filter(items=['main_speaker', 'name', 'comments']) \\\n",
    "  .head(10)"
   ]
  },
  {
   "cell_type": "markdown",
   "metadata": {},
   "source": [
    "**Problem**\n",
    "This is partially measuring how long the talk has been on line.\n",
    "\n",
    "**Solution**\n",
    "Account for the number of views."
   ]
  },
  {
   "cell_type": "code",
   "execution_count": 9,
   "metadata": {
    "ExecuteTime": {
     "end_time": "2019-08-30T19:06:42.705640Z",
     "start_time": "2019-08-30T19:06:42.506312Z"
    }
   },
   "outputs": [
    {
     "data": {
      "text/html": [
       "<div>\n",
       "<style scoped>\n",
       "    .dataframe tbody tr th:only-of-type {\n",
       "        vertical-align: middle;\n",
       "    }\n",
       "\n",
       "    .dataframe tbody tr th {\n",
       "        vertical-align: top;\n",
       "    }\n",
       "\n",
       "    .dataframe thead th {\n",
       "        text-align: right;\n",
       "    }\n",
       "</style>\n",
       "<table border=\"1\" class=\"dataframe\">\n",
       "  <thead>\n",
       "    <tr style=\"text-align: right;\">\n",
       "      <th></th>\n",
       "      <th>main_speaker</th>\n",
       "      <th>name</th>\n",
       "      <th>comments_per_view_%</th>\n",
       "    </tr>\n",
       "  </thead>\n",
       "  <tbody>\n",
       "    <tr>\n",
       "      <th>744</th>\n",
       "      <td>Diane J. Savino</td>\n",
       "      <td>Diane J. Savino: The case for same-sex marriage</td>\n",
       "      <td>0.221960</td>\n",
       "    </tr>\n",
       "    <tr>\n",
       "      <th>803</th>\n",
       "      <td>David Bismark</td>\n",
       "      <td>David Bismark: E-voting without fraud</td>\n",
       "      <td>0.153435</td>\n",
       "    </tr>\n",
       "    <tr>\n",
       "      <th>96</th>\n",
       "      <td>Richard Dawkins</td>\n",
       "      <td>Richard Dawkins: Militant atheism</td>\n",
       "      <td>0.146384</td>\n",
       "    </tr>\n",
       "    <tr>\n",
       "      <th>694</th>\n",
       "      <td>Sharmeen Obaid-Chinoy</td>\n",
       "      <td>Sharmeen Obaid-Chinoy: Inside a school for sui...</td>\n",
       "      <td>0.142068</td>\n",
       "    </tr>\n",
       "    <tr>\n",
       "      <th>954</th>\n",
       "      <td>Janet Echelman</td>\n",
       "      <td>Janet Echelman: Taking imagination seriously</td>\n",
       "      <td>0.135957</td>\n",
       "    </tr>\n",
       "    <tr>\n",
       "      <th>840</th>\n",
       "      <td>Lesley Hazleton</td>\n",
       "      <td>Lesley Hazleton: On reading the Koran</td>\n",
       "      <td>0.128515</td>\n",
       "    </tr>\n",
       "    <tr>\n",
       "      <th>876</th>\n",
       "      <td>Elizabeth Lindsey</td>\n",
       "      <td>Elizabeth Lindsey: Curating humanity's heritage</td>\n",
       "      <td>0.126372</td>\n",
       "    </tr>\n",
       "    <tr>\n",
       "      <th>1787</th>\n",
       "      <td>David Chalmers</td>\n",
       "      <td>David Chalmers: How do you explain consciousness?</td>\n",
       "      <td>0.123592</td>\n",
       "    </tr>\n",
       "    <tr>\n",
       "      <th>661</th>\n",
       "      <td>Michael Specter</td>\n",
       "      <td>Michael Specter: The danger of science denial</td>\n",
       "      <td>0.123570</td>\n",
       "    </tr>\n",
       "    <tr>\n",
       "      <th>561</th>\n",
       "      <td>Mallika Sarabhai</td>\n",
       "      <td>Mallika Sarabhai: Dance to change the world</td>\n",
       "      <td>0.123487</td>\n",
       "    </tr>\n",
       "  </tbody>\n",
       "</table>\n",
       "</div>"
      ],
      "text/plain": [
       "               main_speaker  \\\n",
       "744         Diane J. Savino   \n",
       "803           David Bismark   \n",
       "96          Richard Dawkins   \n",
       "694   Sharmeen Obaid-Chinoy   \n",
       "954          Janet Echelman   \n",
       "840         Lesley Hazleton   \n",
       "876       Elizabeth Lindsey   \n",
       "1787         David Chalmers   \n",
       "661         Michael Specter   \n",
       "561        Mallika Sarabhai   \n",
       "\n",
       "                                                   name  comments_per_view_%  \n",
       "744     Diane J. Savino: The case for same-sex marriage             0.221960  \n",
       "803               David Bismark: E-voting without fraud             0.153435  \n",
       "96                    Richard Dawkins: Militant atheism             0.146384  \n",
       "694   Sharmeen Obaid-Chinoy: Inside a school for sui...             0.142068  \n",
       "954        Janet Echelman: Taking imagination seriously             0.135957  \n",
       "840               Lesley Hazleton: On reading the Koran             0.128515  \n",
       "876     Elizabeth Lindsey: Curating humanity's heritage             0.126372  \n",
       "1787  David Chalmers: How do you explain consciousness?             0.123592  \n",
       "661       Michael Specter: The danger of science denial             0.123570  \n",
       "561         Mallika Sarabhai: Dance to change the world             0.123487  "
      ]
     },
     "execution_count": 9,
     "metadata": {},
     "output_type": "execute_result"
    }
   ],
   "source": [
    "# Use dot notation when you can, especially on the RHS\n",
    "# Makes it look just like series math. Cleaner.\n",
    "ted['comments_per_view_%'] = ted.comments / ted.views * 100\n",
    "ted.sort_values(by='comments_per_view_%', ascending=False) \\\n",
    "  .filter(items=['main_speaker', 'name', 'comments_per_view_%']) \\\n",
    "  .head(10)"
   ]
  },
  {
   "cell_type": "markdown",
   "metadata": {},
   "source": [
    "Those numbers are fairly small. Might be easier to interpret as \"views per comment\" and look for the smallest numbers."
   ]
  },
  {
   "cell_type": "code",
   "execution_count": 10,
   "metadata": {
    "ExecuteTime": {
     "end_time": "2019-08-30T19:06:42.720951Z",
     "start_time": "2019-08-30T19:06:42.707233Z"
    }
   },
   "outputs": [
    {
     "data": {
      "text/html": [
       "<div>\n",
       "<style scoped>\n",
       "    .dataframe tbody tr th:only-of-type {\n",
       "        vertical-align: middle;\n",
       "    }\n",
       "\n",
       "    .dataframe tbody tr th {\n",
       "        vertical-align: top;\n",
       "    }\n",
       "\n",
       "    .dataframe thead th {\n",
       "        text-align: right;\n",
       "    }\n",
       "</style>\n",
       "<table border=\"1\" class=\"dataframe\">\n",
       "  <thead>\n",
       "    <tr style=\"text-align: right;\">\n",
       "      <th></th>\n",
       "      <th>main_speaker</th>\n",
       "      <th>name</th>\n",
       "      <th>views_per_comment</th>\n",
       "    </tr>\n",
       "  </thead>\n",
       "  <tbody>\n",
       "    <tr>\n",
       "      <th>744</th>\n",
       "      <td>Diane J. Savino</td>\n",
       "      <td>Diane J. Savino: The case for same-sex marriage</td>\n",
       "      <td>450.531587</td>\n",
       "    </tr>\n",
       "    <tr>\n",
       "      <th>803</th>\n",
       "      <td>David Bismark</td>\n",
       "      <td>David Bismark: E-voting without fraud</td>\n",
       "      <td>651.739808</td>\n",
       "    </tr>\n",
       "    <tr>\n",
       "      <th>96</th>\n",
       "      <td>Richard Dawkins</td>\n",
       "      <td>Richard Dawkins: Militant atheism</td>\n",
       "      <td>683.134291</td>\n",
       "    </tr>\n",
       "    <tr>\n",
       "      <th>694</th>\n",
       "      <td>Sharmeen Obaid-Chinoy</td>\n",
       "      <td>Sharmeen Obaid-Chinoy: Inside a school for sui...</td>\n",
       "      <td>703.886818</td>\n",
       "    </tr>\n",
       "    <tr>\n",
       "      <th>954</th>\n",
       "      <td>Janet Echelman</td>\n",
       "      <td>Janet Echelman: Taking imagination seriously</td>\n",
       "      <td>735.525682</td>\n",
       "    </tr>\n",
       "    <tr>\n",
       "      <th>840</th>\n",
       "      <td>Lesley Hazleton</td>\n",
       "      <td>Lesley Hazleton: On reading the Koran</td>\n",
       "      <td>778.119629</td>\n",
       "    </tr>\n",
       "    <tr>\n",
       "      <th>876</th>\n",
       "      <td>Elizabeth Lindsey</td>\n",
       "      <td>Elizabeth Lindsey: Curating humanity's heritage</td>\n",
       "      <td>791.315315</td>\n",
       "    </tr>\n",
       "    <tr>\n",
       "      <th>1787</th>\n",
       "      <td>David Chalmers</td>\n",
       "      <td>David Chalmers: How do you explain consciousness?</td>\n",
       "      <td>809.114852</td>\n",
       "    </tr>\n",
       "    <tr>\n",
       "      <th>661</th>\n",
       "      <td>Michael Specter</td>\n",
       "      <td>Michael Specter: The danger of science denial</td>\n",
       "      <td>809.255282</td>\n",
       "    </tr>\n",
       "    <tr>\n",
       "      <th>561</th>\n",
       "      <td>Mallika Sarabhai</td>\n",
       "      <td>Mallika Sarabhai: Dance to change the world</td>\n",
       "      <td>809.805042</td>\n",
       "    </tr>\n",
       "  </tbody>\n",
       "</table>\n",
       "</div>"
      ],
      "text/plain": [
       "               main_speaker  \\\n",
       "744         Diane J. Savino   \n",
       "803           David Bismark   \n",
       "96          Richard Dawkins   \n",
       "694   Sharmeen Obaid-Chinoy   \n",
       "954          Janet Echelman   \n",
       "840         Lesley Hazleton   \n",
       "876       Elizabeth Lindsey   \n",
       "1787         David Chalmers   \n",
       "661         Michael Specter   \n",
       "561        Mallika Sarabhai   \n",
       "\n",
       "                                                   name  views_per_comment  \n",
       "744     Diane J. Savino: The case for same-sex marriage         450.531587  \n",
       "803               David Bismark: E-voting without fraud         651.739808  \n",
       "96                    Richard Dawkins: Militant atheism         683.134291  \n",
       "694   Sharmeen Obaid-Chinoy: Inside a school for sui...         703.886818  \n",
       "954        Janet Echelman: Taking imagination seriously         735.525682  \n",
       "840               Lesley Hazleton: On reading the Koran         778.119629  \n",
       "876     Elizabeth Lindsey: Curating humanity's heritage         791.315315  \n",
       "1787  David Chalmers: How do you explain consciousness?         809.114852  \n",
       "661       Michael Specter: The danger of science denial         809.255282  \n",
       "561         Mallika Sarabhai: Dance to change the world         809.805042  "
      ]
     },
     "execution_count": 10,
     "metadata": {},
     "output_type": "execute_result"
    }
   ],
   "source": [
    "ted['views_per_comment'] = ted.views / ted.comments\n",
    "ted.sort_values('views_per_comment') \\\n",
    "  .filter(items=['main_speaker', 'name', 'views_per_comment']) \\\n",
    "  .head(10)\n",
    "# Smaller numbers means it takes less views to generate discussion\n",
    "# So keep the ascending default sort"
   ]
  },
  {
   "cell_type": "markdown",
   "metadata": {},
   "source": [
    "1 out of every 450 people that view _The case for same-sex marriage_ leave a comment"
   ]
  },
  {
   "cell_type": "markdown",
   "metadata": {},
   "source": [
    "# Visualize the distribution of comments"
   ]
  },
  {
   "cell_type": "code",
   "execution_count": 11,
   "metadata": {
    "ExecuteTime": {
     "end_time": "2019-08-30T19:06:42.965206Z",
     "start_time": "2019-08-30T19:06:42.722558Z"
    }
   },
   "outputs": [
    {
     "data": {
      "text/plain": [
       "<matplotlib.axes._subplots.AxesSubplot at 0x109606ac8>"
      ]
     },
     "execution_count": 11,
     "metadata": {},
     "output_type": "execute_result"
    },
    {
     "data": {
      "image/png": "[encoded data removed]",
      "text/plain": [
       "<Figure size 432x288 with 1 Axes>"
      ]
     },
     "metadata": {},
     "output_type": "display_data"
    }
   ],
   "source": [
    "ted.comments.plot()"
   ]
  },
  {
   "cell_type": "markdown",
   "metadata": {},
   "source": [
    "Matplotlib creates a **line** plot for us.\n",
    "* `x` is the index\n",
    "* `y` is the value of the `comments` field\n",
    "\n",
    "Line plots are usually for plotting something over time. We do not have a time component here, so this isn't necessarily the most useful.\n",
    "\n",
    "However, this can be useful for getting a rough understanding of the distribution of values."
   ]
  },
  {
   "cell_type": "markdown",
   "metadata": {},
   "source": [
    "**Access function documentation** 🔥\n",
    "\n",
    "* Inside of a function, you can hit shift+tab to bring up the function signature / doc string!\n",
    "* Regular \"tab\" will start autocompleting keyword arguments.\n"
   ]
  },
  {
   "cell_type": "code",
   "execution_count": 12,
   "metadata": {
    "ExecuteTime": {
     "end_time": "2019-08-30T19:06:43.086238Z",
     "start_time": "2019-08-30T19:06:42.966937Z"
    }
   },
   "outputs": [
    {
     "data": {
      "text/plain": [
       "<matplotlib.axes._subplots.AxesSubplot at 0x10dd706a0>"
      ]
     },
     "execution_count": 12,
     "metadata": {},
     "output_type": "execute_result"
    },
    {
     "data": {
      "image/png": "[encoded data removed]",
      "text/plain": [
       "<Figure size 432x288 with 1 Axes>"
      ]
     },
     "metadata": {},
     "output_type": "display_data"
    }
   ],
   "source": [
    "ted.comments.plot(kind='hist', title='Comments pre Video', bins=8)"
   ]
  },
  {
   "cell_type": "markdown",
   "metadata": {},
   "source": [
    "A histogram shows the frequency distribution of a single numeric variable.\n",
    "It shows how many occurrences happen in each bin.\n",
    "\n",
    "This histogram is not that useful, because the histogram is artificially spread out by the outlier with over 6000 talks.\n",
    "\n",
    "Most talks have less than 600 comments (first bin), and we do not see any breakdown inside of that.\n",
    "\n",
    "We can filter down to only the talks with less than 1000 comments and see that distribution."
   ]
  },
  {
   "cell_type": "code",
   "execution_count": 13,
   "metadata": {
    "ExecuteTime": {
     "end_time": "2019-08-30T19:06:43.207186Z",
     "start_time": "2019-08-30T19:06:43.088192Z"
    }
   },
   "outputs": [
    {
     "data": {
      "text/plain": [
       "<matplotlib.axes._subplots.AxesSubplot at 0x10c2f7160>"
      ]
     },
     "execution_count": 13,
     "metadata": {},
     "output_type": "execute_result"
    },
    {
     "data": {
      "image/png": "[encoded data removed]",
      "text/plain": [
       "<Figure size 432x288 with 1 Axes>"
      ]
     },
     "metadata": {},
     "output_type": "display_data"
    }
   ],
   "source": [
    "ted[ted.comments < 1000].comments.plot(kind='hist')"
   ]
  },
  {
   "cell_type": "code",
   "execution_count": 14,
   "metadata": {
    "ExecuteTime": {
     "end_time": "2019-08-30T19:06:43.214488Z",
     "start_time": "2019-08-30T19:06:43.209067Z"
    }
   },
   "outputs": [
    {
     "data": {
      "text/plain": [
       "(32, 19)"
      ]
     },
     "execution_count": 14,
     "metadata": {},
     "output_type": "execute_result"
    }
   ],
   "source": [
    "ted[ted.comments >= 1000].shape"
   ]
  },
  {
   "cell_type": "markdown",
   "metadata": {},
   "source": [
    "We only lost 32 talks when we filtered to talks with less than 1000 comments.\n",
    "\n",
    "Note that `ted.query('comments < 1000')` is another acceptable way to filter.\n",
    "\n",
    "The speaker believes that using `loc` is the most readable way to filter because it is the most explicit. You are telling Pandas exactly which rows and columns you want."
   ]
  },
  {
   "cell_type": "code",
   "execution_count": 15,
   "metadata": {
    "ExecuteTime": {
     "end_time": "2019-08-30T19:06:43.353198Z",
     "start_time": "2019-08-30T19:06:43.216738Z"
    }
   },
   "outputs": [
    {
     "data": {
      "text/plain": [
       "<matplotlib.axes._subplots.AxesSubplot at 0x11aaa2898>"
      ]
     },
     "execution_count": 15,
     "metadata": {},
     "output_type": "execute_result"
    },
    {
     "data": {
      "image/png": "[encoded data removed]",
      "text/plain": [
       "<Figure size 432x288 with 1 Axes>"
      ]
     },
     "metadata": {},
     "output_type": "display_data"
    }
   ],
   "source": [
    "ted.loc[ted.comments < 1000, 'comments'].plot(kind='hist', bins=20)\n",
    "\n",
    "# ted.loc[What rows do I want, What columns do I want]"
   ]
  },
  {
   "cell_type": "code",
   "execution_count": 16,
   "metadata": {
    "ExecuteTime": {
     "end_time": "2019-08-30T19:06:43.475333Z",
     "start_time": "2019-08-30T19:06:43.354980Z"
    }
   },
   "outputs": [
    {
     "data": {
      "text/plain": [
       "<matplotlib.axes._subplots.AxesSubplot at 0x10dfc4940>"
      ]
     },
     "execution_count": 16,
     "metadata": {},
     "output_type": "execute_result"
    },
    {
     "data": {
      "image/png": "[encoded data removed]",
      "text/plain": [
       "<Figure size 432x288 with 1 Axes>"
      ]
     },
     "metadata": {},
     "output_type": "display_data"
    }
   ],
   "source": [
    "ted.comments.plot(kind='box')"
   ]
  },
  {
   "cell_type": "markdown",
   "metadata": {},
   "source": [
    "All the black dots are \"outliers.\" There are so many outliers that it is not terribly informative in this case."
   ]
  },
  {
   "cell_type": "code",
   "execution_count": 17,
   "metadata": {
    "ExecuteTime": {
     "end_time": "2019-08-30T19:06:43.576424Z",
     "start_time": "2019-08-30T19:06:43.477843Z"
    }
   },
   "outputs": [
    {
     "data": {
      "text/plain": [
       "<matplotlib.axes._subplots.AxesSubplot at 0x10df64198>"
      ]
     },
     "execution_count": 17,
     "metadata": {},
     "output_type": "execute_result"
    },
    {
     "data": {
      "image/png": "[encoded data removed]",
      "text/plain": [
       "<Figure size 432x288 with 1 Axes>"
      ]
     },
     "metadata": {},
     "output_type": "display_data"
    }
   ],
   "source": [
    "ted[ted.comments < 1000].comments.plot(kind='box')"
   ]
  },
  {
   "cell_type": "markdown",
   "metadata": {},
   "source": [
    "Even with just the videos with less than 1000 comments, this distribution has so many in the right tail, that this is not super useful."
   ]
  },
  {
   "cell_type": "markdown",
   "metadata": {},
   "source": [
    "It is generally easier to use Pandas plotting functions than matplotlib. So during exploration, it is usually better to stick to Pandas.\n",
    "\n",
    "Remember to modify the plot defaults to dig in and get a more informative plot.\n",
    "\n",
    "Remember visualization is a summary, and about getting information about a data set quickly. The best visualization depends on the question. Do not be afraid to throw out some data to be able to more accurately visualize the remaining data."
   ]
  },
  {
   "cell_type": "markdown",
   "metadata": {},
   "source": [
    "# Plot the number of talks that took place each year"
   ]
  },
  {
   "cell_type": "code",
   "execution_count": 18,
   "metadata": {
    "ExecuteTime": {
     "end_time": "2019-08-30T19:06:43.588251Z",
     "start_time": "2019-08-30T19:06:43.578693Z"
    }
   },
   "outputs": [],
   "source": [
    "def to_year(timestamp):\n",
    "    \"\"\"Convert integer timestamp to a year\"\"\"\n",
    "    dt = datetime.fromtimestamp(timestamp)\n",
    "    return dt.year\n",
    "\n",
    "ted['film_year'] = ted.film_date.apply(to_year)\n",
    "\n",
    "# Check out pd.to_datetime for a very robust and easy conversion mechanism as well\n",
    "ted['film_datetime'] = pd.to_datetime(ted.film_date, unit='s')"
   ]
  },
  {
   "cell_type": "code",
   "execution_count": 19,
   "metadata": {
    "ExecuteTime": {
     "end_time": "2019-08-30T19:06:43.595779Z",
     "start_time": "2019-08-30T19:06:43.589931Z"
    }
   },
   "outputs": [
    {
     "data": {
      "text/plain": [
       "0    2006\n",
       "1    2006\n",
       "2    2006\n",
       "3    2006\n",
       "4    2006\n",
       "Name: film_datetime, dtype: int64"
      ]
     },
     "execution_count": 19,
     "metadata": {},
     "output_type": "execute_result"
    }
   ],
   "source": [
    "# Strings and datetimes and other data types have special little namespaces\n",
    "# for convenience methods on Series\n",
    "# For instance ted.film_datetime.dt.day_of_week, etc\n",
    "ted.film_datetime.dt.year.head()"
   ]
  },
  {
   "cell_type": "code",
   "execution_count": 20,
   "metadata": {
    "ExecuteTime": {
     "end_time": "2019-08-30T19:06:43.607702Z",
     "start_time": "2019-08-30T19:06:43.597765Z"
    }
   },
   "outputs": [
    {
     "data": {
      "text/html": [
       "<div>\n",
       "<style scoped>\n",
       "    .dataframe tbody tr th:only-of-type {\n",
       "        vertical-align: middle;\n",
       "    }\n",
       "\n",
       "    .dataframe tbody tr th {\n",
       "        vertical-align: top;\n",
       "    }\n",
       "\n",
       "    .dataframe thead th {\n",
       "        text-align: right;\n",
       "    }\n",
       "</style>\n",
       "<table border=\"1\" class=\"dataframe\">\n",
       "  <thead>\n",
       "    <tr style=\"text-align: right;\">\n",
       "      <th></th>\n",
       "      <th>event</th>\n",
       "      <th>film_year</th>\n",
       "    </tr>\n",
       "  </thead>\n",
       "  <tbody>\n",
       "    <tr>\n",
       "      <th>109</th>\n",
       "      <td>TED2007</td>\n",
       "      <td>2007</td>\n",
       "    </tr>\n",
       "    <tr>\n",
       "      <th>322</th>\n",
       "      <td>TEDGlobal 2007</td>\n",
       "      <td>2007</td>\n",
       "    </tr>\n",
       "    <tr>\n",
       "      <th>2221</th>\n",
       "      <td>TED2016</td>\n",
       "      <td>2016</td>\n",
       "    </tr>\n",
       "    <tr>\n",
       "      <th>2385</th>\n",
       "      <td>TEDxStanford</td>\n",
       "      <td>2016</td>\n",
       "    </tr>\n",
       "    <tr>\n",
       "      <th>945</th>\n",
       "      <td>TEDxWarwick</td>\n",
       "      <td>2011</td>\n",
       "    </tr>\n",
       "    <tr>\n",
       "      <th>263</th>\n",
       "      <td>TED2004</td>\n",
       "      <td>2004</td>\n",
       "    </tr>\n",
       "    <tr>\n",
       "      <th>1602</th>\n",
       "      <td>TEDMED 2013</td>\n",
       "      <td>2013</td>\n",
       "    </tr>\n",
       "    <tr>\n",
       "      <th>392</th>\n",
       "      <td>TED2004</td>\n",
       "      <td>2004</td>\n",
       "    </tr>\n",
       "    <tr>\n",
       "      <th>1575</th>\n",
       "      <td>TEDGlobal 2013</td>\n",
       "      <td>2013</td>\n",
       "    </tr>\n",
       "    <tr>\n",
       "      <th>593</th>\n",
       "      <td>TEDIndia 2009</td>\n",
       "      <td>2009</td>\n",
       "    </tr>\n",
       "  </tbody>\n",
       "</table>\n",
       "</div>"
      ],
      "text/plain": [
       "               event  film_year\n",
       "109          TED2007       2007\n",
       "322   TEDGlobal 2007       2007\n",
       "2221         TED2016       2016\n",
       "2385    TEDxStanford       2016\n",
       "945      TEDxWarwick       2011\n",
       "263          TED2004       2004\n",
       "1602     TEDMED 2013       2013\n",
       "392          TED2004       2004\n",
       "1575  TEDGlobal 2013       2013\n",
       "593    TEDIndia 2009       2009"
      ]
     },
     "execution_count": 20,
     "metadata": {},
     "output_type": "execute_result"
    }
   ],
   "source": [
    "# Sanity check that our conversion worked\n",
    "# A lot of the event titles have the year in the name\n",
    "ted[['event', 'film_year']].sample(10)"
   ]
  },
  {
   "cell_type": "code",
   "execution_count": 21,
   "metadata": {
    "ExecuteTime": {
     "end_time": "2019-08-30T19:06:43.790409Z",
     "start_time": "2019-08-30T19:06:43.609374Z"
    }
   },
   "outputs": [
    {
     "data": {
      "text/plain": [
       "<matplotlib.axes._subplots.AxesSubplot at 0x10e1c7278>"
      ]
     },
     "execution_count": 21,
     "metadata": {},
     "output_type": "execute_result"
    },
    {
     "data": {
      "image/png": "[encoded data removed]",
      "text/plain": [
       "<Figure size 432x288 with 1 Axes>"
      ]
     },
     "metadata": {},
     "output_type": "display_data"
    }
   ],
   "source": [
    "ted['film_year'].value_counts(ascending=True).plot(kind='bar')"
   ]
  },
  {
   "cell_type": "markdown",
   "metadata": {
    "ExecuteTime": {
     "end_time": "2019-08-27T01:56:18.640205Z",
     "start_time": "2019-08-27T01:56:18.630135Z"
    }
   },
   "source": [
    "A bar plot is okay, but it does include years that had no data.\n",
    "\n",
    "**Bar plots are for categorical data.**\n",
    "\n",
    "**Line plots are for things plotted over time.**"
   ]
  },
  {
   "cell_type": "code",
   "execution_count": 22,
   "metadata": {
    "ExecuteTime": {
     "end_time": "2019-08-30T19:06:43.887958Z",
     "start_time": "2019-08-30T19:06:43.792114Z"
    }
   },
   "outputs": [
    {
     "data": {
      "text/plain": [
       "<matplotlib.axes._subplots.AxesSubplot at 0x10e157b38>"
      ]
     },
     "execution_count": 22,
     "metadata": {},
     "output_type": "execute_result"
    },
    {
     "data": {
      "image/png": "[encoded data removed]",
      "text/plain": [
       "<Figure size 432x288 with 1 Axes>"
      ]
     },
     "metadata": {},
     "output_type": "display_data"
    }
   ],
   "source": [
    "# We need to sort_index() here\n",
    "# ascending=True on value_counts() does not work, because we are sorting on\n",
    "# the counts (y values)\n",
    "# Sorting index will sort on the left-hand side of the series - years\n",
    "# Without sort index, matplotlib will connect the dots in the wrong order\n",
    "\n",
    "ted.film_datetime.dt.year.value_counts().sort_index().plot() # kind='line' is default"
   ]
  },
  {
   "cell_type": "code",
   "execution_count": 23,
   "metadata": {
    "ExecuteTime": {
     "end_time": "2019-08-30T19:06:43.894665Z",
     "start_time": "2019-08-30T19:06:43.889743Z"
    }
   },
   "outputs": [
    {
     "data": {
      "text/plain": [
       "Timestamp('2017-08-27 00:00:00')"
      ]
     },
     "execution_count": 23,
     "metadata": {},
     "output_type": "execute_result"
    }
   ],
   "source": [
    "# We do not have a sharp dropoff\n",
    "# Instead, we have incomplete data\n",
    "\n",
    "ted.film_datetime.max()"
   ]
  },
  {
   "cell_type": "markdown",
   "metadata": {},
   "source": [
    "## Takeaways\n",
    "\n",
    "1. Read the docs on the data set to figure out what columns will help you\n",
    "1. Read pandas docs to see if there is a \"batteries-included\" way to do it.\n",
    "1. Use the datetime data type because it works well with plots and provides convenience methods and other powerful tooling\n",
    "1. Do sanity checks on your work as you go.\n",
    "1. Consider excluding data if it might not be relevant (e.g., maybe we should exclude 2017 because it is incomplete, and some of these talks aren't technically TED talks)."
   ]
  },
  {
   "cell_type": "markdown",
   "metadata": {
    "ExecuteTime": {
     "end_time": "2019-08-27T02:10:49.799184Z",
     "start_time": "2019-08-27T02:10:49.796484Z"
    }
   },
   "source": [
    "# What were the \"best\" events in TED history to attend?"
   ]
  },
  {
   "cell_type": "markdown",
   "metadata": {},
   "source": [
    "Not asking about the best talk, but the best overall event.\n",
    "\n",
    "Define best, and then go at it.\n",
    "\n"
   ]
  },
  {
   "cell_type": "code",
   "execution_count": 24,
   "metadata": {
    "ExecuteTime": {
     "end_time": "2019-08-30T19:06:43.902428Z",
     "start_time": "2019-08-30T19:06:43.896632Z"
    }
   },
   "outputs": [
    {
     "data": {
      "text/plain": [
       "TED2014    84\n",
       "TED2009    83\n",
       "TED2013    77\n",
       "TED2016    77\n",
       "TED2015    75\n",
       "Name: event, dtype: int64"
      ]
     },
     "execution_count": 24,
     "metadata": {},
     "output_type": "execute_result"
    }
   ],
   "source": [
    "# First, how many talks are there?\n",
    "ted.event.value_counts().head()"
   ]
  },
  {
   "cell_type": "code",
   "execution_count": 25,
   "metadata": {
    "ExecuteTime": {
     "end_time": "2019-08-30T19:06:43.913888Z",
     "start_time": "2019-08-30T19:06:43.904186Z"
    }
   },
   "outputs": [
    {
     "data": {
      "text/plain": [
       "event\n",
       "TEDxNorrkoping        6569493.0\n",
       "TEDxCreativeCoast     8444981.0\n",
       "TEDxBloomington       9484259.5\n",
       "TEDxHouston          16140250.5\n",
       "TEDxPuget Sound      34309432.0\n",
       "Name: views, dtype: float64"
      ]
     },
     "execution_count": 25,
     "metadata": {},
     "output_type": "execute_result"
    }
   ],
   "source": [
    "# But what about talk quality?\n",
    "# The views might tell us something\n",
    "ted.groupby('event').views.mean().sort_values().tail()"
   ]
  },
  {
   "cell_type": "markdown",
   "metadata": {},
   "source": [
    "TEDxPuget Sound had 34 million views per talk!\n",
    "But were there enough talks for it to be an interesting event?"
   ]
  },
  {
   "cell_type": "code",
   "execution_count": 26,
   "metadata": {
    "ExecuteTime": {
     "end_time": "2019-08-30T19:06:43.927450Z",
     "start_time": "2019-08-30T19:06:43.915768Z"
    }
   },
   "outputs": [
    {
     "data": {
      "text/html": [
       "<div>\n",
       "<style scoped>\n",
       "    .dataframe tbody tr th:only-of-type {\n",
       "        vertical-align: middle;\n",
       "    }\n",
       "\n",
       "    .dataframe tbody tr th {\n",
       "        vertical-align: top;\n",
       "    }\n",
       "\n",
       "    .dataframe thead th {\n",
       "        text-align: right;\n",
       "    }\n",
       "</style>\n",
       "<table border=\"1\" class=\"dataframe\">\n",
       "  <thead>\n",
       "    <tr style=\"text-align: right;\">\n",
       "      <th></th>\n",
       "      <th>count</th>\n",
       "      <th>mean</th>\n",
       "    </tr>\n",
       "    <tr>\n",
       "      <th>event</th>\n",
       "      <th></th>\n",
       "      <th></th>\n",
       "    </tr>\n",
       "  </thead>\n",
       "  <tbody>\n",
       "    <tr>\n",
       "      <th>TEDxNorrkoping</th>\n",
       "      <td>1</td>\n",
       "      <td>6569493.0</td>\n",
       "    </tr>\n",
       "    <tr>\n",
       "      <th>TEDxCreativeCoast</th>\n",
       "      <td>1</td>\n",
       "      <td>8444981.0</td>\n",
       "    </tr>\n",
       "    <tr>\n",
       "      <th>TEDxBloomington</th>\n",
       "      <td>2</td>\n",
       "      <td>9484259.5</td>\n",
       "    </tr>\n",
       "    <tr>\n",
       "      <th>TEDxHouston</th>\n",
       "      <td>2</td>\n",
       "      <td>16140250.5</td>\n",
       "    </tr>\n",
       "    <tr>\n",
       "      <th>TEDxPuget Sound</th>\n",
       "      <td>1</td>\n",
       "      <td>34309432.0</td>\n",
       "    </tr>\n",
       "  </tbody>\n",
       "</table>\n",
       "</div>"
      ],
      "text/plain": [
       "                   count        mean\n",
       "event                               \n",
       "TEDxNorrkoping         1   6569493.0\n",
       "TEDxCreativeCoast      1   8444981.0\n",
       "TEDxBloomington        2   9484259.5\n",
       "TEDxHouston            2  16140250.5\n",
       "TEDxPuget Sound        1  34309432.0"
      ]
     },
     "execution_count": 26,
     "metadata": {},
     "output_type": "execute_result"
    }
   ],
   "source": [
    "ted.groupby('event').views.agg(['count', 'mean']).sort_values('mean').tail()"
   ]
  },
  {
   "cell_type": "markdown",
   "metadata": {},
   "source": [
    "There was only 1 talk at TEDxPuget Sound! Probably not the \"best\" event in TED history."
   ]
  },
  {
   "cell_type": "code",
   "execution_count": 27,
   "metadata": {
    "ExecuteTime": {
     "end_time": "2019-08-30T19:06:43.941652Z",
     "start_time": "2019-08-30T19:06:43.929485Z"
    }
   },
   "outputs": [
    {
     "data": {
      "text/html": [
       "<div>\n",
       "<style scoped>\n",
       "    .dataframe tbody tr th:only-of-type {\n",
       "        vertical-align: middle;\n",
       "    }\n",
       "\n",
       "    .dataframe tbody tr th {\n",
       "        vertical-align: top;\n",
       "    }\n",
       "\n",
       "    .dataframe thead th {\n",
       "        text-align: right;\n",
       "    }\n",
       "</style>\n",
       "<table border=\"1\" class=\"dataframe\">\n",
       "  <thead>\n",
       "    <tr style=\"text-align: right;\">\n",
       "      <th></th>\n",
       "      <th>count</th>\n",
       "      <th>mean</th>\n",
       "      <th>sum</th>\n",
       "    </tr>\n",
       "    <tr>\n",
       "      <th>event</th>\n",
       "      <th></th>\n",
       "      <th></th>\n",
       "      <th></th>\n",
       "    </tr>\n",
       "  </thead>\n",
       "  <tbody>\n",
       "    <tr>\n",
       "      <th>TED2006</th>\n",
       "      <td>45</td>\n",
       "      <td>3.274345e+06</td>\n",
       "      <td>147345533</td>\n",
       "    </tr>\n",
       "    <tr>\n",
       "      <th>TED2015</th>\n",
       "      <td>75</td>\n",
       "      <td>2.011017e+06</td>\n",
       "      <td>150826305</td>\n",
       "    </tr>\n",
       "    <tr>\n",
       "      <th>TEDGlobal 2013</th>\n",
       "      <td>66</td>\n",
       "      <td>2.584163e+06</td>\n",
       "      <td>170554736</td>\n",
       "    </tr>\n",
       "    <tr>\n",
       "      <th>TED2014</th>\n",
       "      <td>84</td>\n",
       "      <td>2.072874e+06</td>\n",
       "      <td>174121423</td>\n",
       "    </tr>\n",
       "    <tr>\n",
       "      <th>TED2013</th>\n",
       "      <td>77</td>\n",
       "      <td>2.302700e+06</td>\n",
       "      <td>177307937</td>\n",
       "    </tr>\n",
       "  </tbody>\n",
       "</table>\n",
       "</div>"
      ],
      "text/plain": [
       "                count          mean        sum\n",
       "event                                         \n",
       "TED2006            45  3.274345e+06  147345533\n",
       "TED2015            75  2.011017e+06  150826305\n",
       "TEDGlobal 2013     66  2.584163e+06  170554736\n",
       "TED2014            84  2.072874e+06  174121423\n",
       "TED2013            77  2.302700e+06  177307937"
      ]
     },
     "execution_count": 27,
     "metadata": {},
     "output_type": "execute_result"
    }
   ],
   "source": [
    "ted.groupby('event').views.agg(['count', 'mean', 'sum']).sort_values('sum').tail()"
   ]
  },
  {
   "cell_type": "markdown",
   "metadata": {},
   "source": [
    "TED2013 had the highest total number of online video views, so that makes it a candidate for \"best.\""
   ]
  },
  {
   "cell_type": "markdown",
   "metadata": {},
   "source": [
    "## Takeaways\n",
    "\n",
    "1. Think creatively. How can you use the data you _have_ to answer a question. Be honest about the weaknesses of the approach.\n",
    "1. Watch out for small sample sizes. Use `count` with `mean` to detect meaningless means.\n"
   ]
  },
  {
   "cell_type": "markdown",
   "metadata": {},
   "source": [
    "# Unpack the ratings data"
   ]
  },
  {
   "cell_type": "code",
   "execution_count": 33,
   "metadata": {
    "ExecuteTime": {
     "end_time": "2019-08-30T19:07:43.617399Z",
     "start_time": "2019-08-30T19:07:43.613378Z"
    }
   },
   "outputs": [
    {
     "data": {
      "text/plain": [
       "\"[{'id': 7, 'name': 'Funny', 'count': 19645}, {'id': 1, 'name': 'Beautiful', 'count': 4573}, {'id': 9, 'name': 'Ingenious', 'count': 6073}, {'id': 3, 'name': 'Courageous', 'count': 3253}, {'id': 11, 'name': 'Longwinded', 'count': 387}, {'id': 2, 'name': 'Confusing', 'count': 242}, {'id': 8, 'name': 'Informative', 'count': 7346}, {'id': 22, 'name': 'Fascinating', 'count': 10581}, {'id': 21, 'name': 'Unconvincing', 'count': 300}, {'id': 24, 'name': 'Persuasive', 'count': 10704}, {'id': 23, 'name': 'Jaw-dropping', 'count': 4439}, {'id': 25, 'name': 'OK', 'count': 1174}, {'id': 26, 'name': 'Obnoxious', 'count': 209}, {'id': 10, 'name': 'Inspiring', 'count': 24924}]\""
      ]
     },
     "execution_count": 33,
     "metadata": {},
     "output_type": "execute_result"
    }
   ],
   "source": [
    "# Let's check out what the first one looks like to see what we need to unpack\n",
    "# Both of these syntaxes work just fine\n",
    "ted.loc[0, 'ratings']\n",
    "ted.ratings[0]"
   ]
  },
  {
   "cell_type": "code",
   "execution_count": 34,
   "metadata": {
    "ExecuteTime": {
     "end_time": "2019-08-30T19:08:14.078360Z",
     "start_time": "2019-08-30T19:08:14.073812Z"
    }
   },
   "outputs": [
    {
     "data": {
      "text/plain": [
       "str"
      ]
     },
     "execution_count": 34,
     "metadata": {},
     "output_type": "execute_result"
    }
   ],
   "source": [
    "# What is the type?\n",
    "type(ted.ratings[0])"
   ]
  },
  {
   "cell_type": "markdown",
   "metadata": {},
   "source": [
    "It is a stringified list of dictionaries. i.e., we are dealing with JSON."
   ]
  },
  {
   "cell_type": "code",
   "execution_count": 38,
   "metadata": {
    "ExecuteTime": {
     "end_time": "2019-08-30T19:18:03.364835Z",
     "start_time": "2019-08-30T19:18:03.359665Z"
    }
   },
   "outputs": [
    {
     "data": {
      "text/plain": [
       "[{'id': 7, 'name': 'Funny', 'count': 19645},\n",
       " {'id': 1, 'name': 'Beautiful', 'count': 4573},\n",
       " {'id': 9, 'name': 'Ingenious', 'count': 6073},\n",
       " {'id': 3, 'name': 'Courageous', 'count': 3253},\n",
       " {'id': 11, 'name': 'Longwinded', 'count': 387},\n",
       " {'id': 2, 'name': 'Confusing', 'count': 242},\n",
       " {'id': 8, 'name': 'Informative', 'count': 7346},\n",
       " {'id': 22, 'name': 'Fascinating', 'count': 10581},\n",
       " {'id': 21, 'name': 'Unconvincing', 'count': 300},\n",
       " {'id': 24, 'name': 'Persuasive', 'count': 10704},\n",
       " {'id': 23, 'name': 'Jaw-dropping', 'count': 4439},\n",
       " {'id': 25, 'name': 'OK', 'count': 1174},\n",
       " {'id': 26, 'name': 'Obnoxious', 'count': 209},\n",
       " {'id': 10, 'name': 'Inspiring', 'count': 24924}]"
      ]
     },
     "execution_count": 38,
     "metadata": {},
     "output_type": "execute_result"
    }
   ],
   "source": [
    "# One way to get a list of dictionaries\n",
    "eval(ted.ratings[0])\n",
    "\n",
    "# Probably not wise to just evaluate aribtrary data as Python though"
   ]
  },
  {
   "cell_type": "code",
   "execution_count": 39,
   "metadata": {
    "ExecuteTime": {
     "end_time": "2019-08-30T19:18:20.898186Z",
     "start_time": "2019-08-30T19:18:20.895398Z"
    }
   },
   "outputs": [],
   "source": [
    "import ast"
   ]
  },
  {
   "cell_type": "code",
   "execution_count": 44,
   "metadata": {
    "ExecuteTime": {
     "end_time": "2019-08-30T19:19:18.128517Z",
     "start_time": "2019-08-30T19:19:18.122912Z"
    }
   },
   "outputs": [
    {
     "data": {
      "text/plain": [
       "[{'id': 7, 'name': 'Funny', 'count': 19645},\n",
       " {'id': 1, 'name': 'Beautiful', 'count': 4573},\n",
       " {'id': 9, 'name': 'Ingenious', 'count': 6073},\n",
       " {'id': 3, 'name': 'Courageous', 'count': 3253},\n",
       " {'id': 11, 'name': 'Longwinded', 'count': 387},\n",
       " {'id': 2, 'name': 'Confusing', 'count': 242},\n",
       " {'id': 8, 'name': 'Informative', 'count': 7346},\n",
       " {'id': 22, 'name': 'Fascinating', 'count': 10581},\n",
       " {'id': 21, 'name': 'Unconvincing', 'count': 300},\n",
       " {'id': 24, 'name': 'Persuasive', 'count': 10704},\n",
       " {'id': 23, 'name': 'Jaw-dropping', 'count': 4439},\n",
       " {'id': 25, 'name': 'OK', 'count': 1174},\n",
       " {'id': 26, 'name': 'Obnoxious', 'count': 209},\n",
       " {'id': 10, 'name': 'Inspiring', 'count': 24924}]"
      ]
     },
     "execution_count": 44,
     "metadata": {},
     "output_type": "execute_result"
    }
   ],
   "source": [
    "# A bit safer: Evaluate a string containing Python literals\n",
    "ast.literal_eval(ted.ratings[0])"
   ]
  },
  {
   "cell_type": "code",
   "execution_count": 51,
   "metadata": {
    "ExecuteTime": {
     "end_time": "2019-08-30T19:26:05.039535Z",
     "start_time": "2019-08-30T19:26:04.558233Z"
    }
   },
   "outputs": [],
   "source": [
    "ted['ratings_list'] = ted.ratings.apply(ast.literal_eval)\n",
    "\n",
    "# We now have a column with lists in it\n",
    "# So ted.ratings_list is a series of lists\n",
    "# Personally, I would rather unpack the list and create a column for each rating type\n",
    "# that contains the counts"
   ]
  },
  {
   "cell_type": "code",
   "execution_count": 50,
   "metadata": {
    "ExecuteTime": {
     "end_time": "2019-08-30T19:25:05.316788Z",
     "start_time": "2019-08-30T19:25:05.304849Z"
    }
   },
   "outputs": [
    {
     "data": {
      "text/plain": [
       "0    [{'id': 7, 'name': 'Funny', 'count': 19645}, {...\n",
       "1    [{'id': 7, 'name': 'Funny', 'count': 544}, {'i...\n",
       "2    [{'id': 7, 'name': 'Funny', 'count': 964}, {'i...\n",
       "3    [{'id': 3, 'name': 'Courageous', 'count': 760}...\n",
       "4    [{'id': 9, 'name': 'Ingenious', 'count': 3202}...\n",
       "Name: ratings_list, dtype: object"
      ]
     },
     "execution_count": 50,
     "metadata": {},
     "output_type": "execute_result"
    }
   ],
   "source": [
    "ted.ratings_list.head()"
   ]
  },
  {
   "cell_type": "markdown",
   "metadata": {},
   "source": [
    "By convention, the speaker uses `.apply` when applying a function to each element of an array, and uses `.map` when doing simple transformations e.g., 'a' -> 1, 'b' -> 2. He has a video that digs into the difference between apply, map, and apply map across both Series and DataFrames."
   ]
  },
  {
   "cell_type": "markdown",
   "metadata": {},
   "source": [
    "## Takeaways\n",
    "\n",
    "1. `apply` is slower than built-in Pandas functions. But use it if you need to!\n",
    "1. Pay attention to data types to know kind of functions you have available to you!"
   ]
  },
  {
   "cell_type": "markdown",
   "metadata": {},
   "source": [
    "# Count the total number of ratings received by each talk\n",
    "\n",
    "Store this in a new column named `num_ratings`."
   ]
  },
  {
   "cell_type": "code",
   "execution_count": 72,
   "metadata": {
    "ExecuteTime": {
     "end_time": "2019-08-30T19:38:47.465721Z",
     "start_time": "2019-08-30T19:38:47.453366Z"
    }
   },
   "outputs": [],
   "source": [
    "def count_all_ratings(ratings_list):\n",
    "    return sum(map(lambda d: d.get('count'), ratings_list))\n",
    "\n",
    "ted['num_ratings'] = ted.ratings_list.apply(count_all_ratings)"
   ]
  },
  {
   "cell_type": "code",
   "execution_count": 75,
   "metadata": {
    "ExecuteTime": {
     "end_time": "2019-08-30T19:47:10.279389Z",
     "start_time": "2019-08-30T19:47:10.269470Z"
    }
   },
   "outputs": [
    {
     "data": {
      "text/plain": [
       "count     2550.000000\n",
       "mean      2436.408235\n",
       "std       4226.795631\n",
       "min         68.000000\n",
       "25%        870.750000\n",
       "50%       1452.500000\n",
       "75%       2506.750000\n",
       "max      93850.000000\n",
       "Name: num_ratings, dtype: float64"
      ]
     },
     "execution_count": 75,
     "metadata": {},
     "output_type": "execute_result"
    }
   ],
   "source": [
    "ted.num_ratings.describe()"
   ]
  },
  {
   "cell_type": "markdown",
   "metadata": {},
   "source": [
    "Just do a describe to do a spot check. These numbers look reasonable. No reason to think we messed up here."
   ]
  },
  {
   "cell_type": "markdown",
   "metadata": {},
   "source": [
    "## Takeaways\n",
    "\n",
    "1. Write code in small chunks and do sanity checks as you go.\n",
    "1. Lambda is best for simple functions."
   ]
  },
  {
   "cell_type": "markdown",
   "metadata": {},
   "source": [
    "# Which occupations deliver the funniest TED talks on average?"
   ]
  },
  {
   "cell_type": "code",
   "execution_count": 76,
   "metadata": {
    "ExecuteTime": {
     "end_time": "2019-08-30T19:51:04.814679Z",
     "start_time": "2019-08-30T19:51:04.810003Z"
    }
   },
   "outputs": [
    {
     "data": {
      "text/plain": [
       "[{'id': 7, 'name': 'Funny', 'count': 544},\n",
       " {'id': 3, 'name': 'Courageous', 'count': 139},\n",
       " {'id': 2, 'name': 'Confusing', 'count': 62},\n",
       " {'id': 1, 'name': 'Beautiful', 'count': 58},\n",
       " {'id': 21, 'name': 'Unconvincing', 'count': 258},\n",
       " {'id': 11, 'name': 'Longwinded', 'count': 113},\n",
       " {'id': 8, 'name': 'Informative', 'count': 443},\n",
       " {'id': 10, 'name': 'Inspiring', 'count': 413},\n",
       " {'id': 22, 'name': 'Fascinating', 'count': 132},\n",
       " {'id': 9, 'name': 'Ingenious', 'count': 56},\n",
       " {'id': 24, 'name': 'Persuasive', 'count': 268},\n",
       " {'id': 23, 'name': 'Jaw-dropping', 'count': 116},\n",
       " {'id': 26, 'name': 'Obnoxious', 'count': 131},\n",
       " {'id': 25, 'name': 'OK', 'count': 203}]"
      ]
     },
     "execution_count": 76,
     "metadata": {},
     "output_type": "execute_result"
    }
   ],
   "source": [
    "ted.ratings_list[1]"
   ]
  },
  {
   "cell_type": "code",
   "execution_count": 116,
   "metadata": {
    "ExecuteTime": {
     "end_time": "2019-08-30T20:03:59.482472Z",
     "start_time": "2019-08-30T20:03:59.474250Z"
    }
   },
   "outputs": [
    {
     "data": {
      "text/plain": [
       "True    True\n",
       "Name: ratings, dtype: bool"
      ]
     },
     "execution_count": 116,
     "metadata": {},
     "output_type": "execute_result"
    }
   ],
   "source": [
    "# Does every rating list always have a Funny dictionary?\n",
    "# Let's count up all the ones that have funny and see if it matches \n",
    "# the total number of rows\n",
    "ted.ratings.str.contains('Funny').value_counts() == ted.ratings.size"
   ]
  },
  {
   "cell_type": "code",
   "execution_count": 104,
   "metadata": {
    "ExecuteTime": {
     "end_time": "2019-08-30T19:58:53.152431Z",
     "start_time": "2019-08-30T19:58:53.134864Z"
    }
   },
   "outputs": [],
   "source": [
    "list(map(lambda d: d['count'], filter(lambda d: d['name'] == 'Funny', ted.ratings_list[0])))[0]\n",
    "\n",
    "def funny_ratings_count(ratings_list):\n",
    "    return list(map(\n",
    "      lambda d: d.get('count'),\n",
    "      filter(\n",
    "        lambda d: d.get('name') == 'Funny',\n",
    "        ratings_list\n",
    "      )\n",
    "    ))[0]\n",
    "\n",
    "ted['funny_rating_count'] = ted.ratings_list.apply(funny_ratings_count)"
   ]
  },
  {
   "cell_type": "code",
   "execution_count": 118,
   "metadata": {
    "ExecuteTime": {
     "end_time": "2019-08-30T20:14:53.860512Z",
     "start_time": "2019-08-30T20:14:53.857514Z"
    }
   },
   "outputs": [],
   "source": [
    "ted['funny_rate'] = ted.funny_rating_count / ted.num_ratings"
   ]
  },
  {
   "cell_type": "code",
   "execution_count": 119,
   "metadata": {
    "ExecuteTime": {
     "end_time": "2019-08-30T20:14:59.137658Z",
     "start_time": "2019-08-30T20:14:59.130777Z"
    }
   },
   "outputs": [
    {
     "data": {
      "text/plain": [
       "count    2550.000000\n",
       "mean        0.050361\n",
       "std         0.087779\n",
       "min         0.000000\n",
       "25%         0.005922\n",
       "50%         0.014981\n",
       "75%         0.047736\n",
       "max         0.702076\n",
       "Name: funny_rate, dtype: float64"
      ]
     },
     "execution_count": 119,
     "metadata": {},
     "output_type": "execute_result"
    }
   ],
   "source": [
    "ted.funny_rate.describe()"
   ]
  },
  {
   "cell_type": "code",
   "execution_count": 124,
   "metadata": {
    "ExecuteTime": {
     "end_time": "2019-08-30T20:17:04.637872Z",
     "start_time": "2019-08-30T20:17:04.631009Z"
    }
   },
   "outputs": [
    {
     "data": {
      "text/plain": [
       "1849                       Science humorist\n",
       "337                                Comedian\n",
       "124     Performance poet, multimedia artist\n",
       "315                                  Expert\n",
       "1168             Social energy entrepreneur\n",
       "1468                          Ornithologist\n",
       "595                  Comedian, voice artist\n",
       "1534                         Cartoon editor\n",
       "97                                 Satirist\n",
       "2297                          Actor, writer\n",
       "568                                Comedian\n",
       "675                          Data scientist\n",
       "21                     Humorist, web artist\n",
       "194                                Jugglers\n",
       "2273                    Comedian and writer\n",
       "2114                    Comedian and writer\n",
       "173                                Investor\n",
       "747                                Comedian\n",
       "1398                               Comedian\n",
       "685             Actor, comedian, playwright\n",
       "Name: speaker_occupation, dtype: object"
      ]
     },
     "execution_count": 124,
     "metadata": {},
     "output_type": "execute_result"
    }
   ],
   "source": [
    "# Intuitively, the 20 funniest talks should be given\n",
    "# by people with \"funny\" occupations\n",
    "ted.sort_values('funny_rate').speaker_occupation.tail(20)"
   ]
  },
  {
   "cell_type": "code",
   "execution_count": 126,
   "metadata": {
    "ExecuteTime": {
     "end_time": "2019-08-30T20:18:37.890428Z",
     "start_time": "2019-08-30T20:18:37.883514Z"
    }
   },
   "outputs": [
    {
     "data": {
      "text/plain": [
       "speaker_occupation\n",
       "Comedian                       0.512457\n",
       "Actor, writer                  0.515152\n",
       "Actor, comedian, playwright    0.558107\n",
       "Jugglers                       0.566828\n",
       "Comedian and writer            0.602085\n",
       "Name: funny_rate, dtype: float64"
      ]
     },
     "execution_count": 126,
     "metadata": {},
     "output_type": "execute_result"
    }
   ],
   "source": [
    "ted.groupby('speaker_occupation').funny_rate.mean().sort_values().tail()"
   ]
  },
  {
   "cell_type": "code",
   "execution_count": 127,
   "metadata": {
    "ExecuteTime": {
     "end_time": "2019-08-30T20:18:51.503500Z",
     "start_time": "2019-08-30T20:18:51.491466Z"
    }
   },
   "outputs": [
    {
     "data": {
      "text/html": [
       "<div>\n",
       "<style scoped>\n",
       "    .dataframe tbody tr th:only-of-type {\n",
       "        vertical-align: middle;\n",
       "    }\n",
       "\n",
       "    .dataframe tbody tr th {\n",
       "        vertical-align: top;\n",
       "    }\n",
       "\n",
       "    .dataframe thead th {\n",
       "        text-align: right;\n",
       "    }\n",
       "</style>\n",
       "<table border=\"1\" class=\"dataframe\">\n",
       "  <thead>\n",
       "    <tr style=\"text-align: right;\">\n",
       "      <th></th>\n",
       "      <th>mean</th>\n",
       "      <th>count</th>\n",
       "    </tr>\n",
       "    <tr>\n",
       "      <th>speaker_occupation</th>\n",
       "      <th></th>\n",
       "      <th></th>\n",
       "    </tr>\n",
       "  </thead>\n",
       "  <tbody>\n",
       "    <tr>\n",
       "      <th>Comedian</th>\n",
       "      <td>0.512457</td>\n",
       "      <td>6</td>\n",
       "    </tr>\n",
       "    <tr>\n",
       "      <th>Actor, writer</th>\n",
       "      <td>0.515152</td>\n",
       "      <td>1</td>\n",
       "    </tr>\n",
       "    <tr>\n",
       "      <th>Actor, comedian, playwright</th>\n",
       "      <td>0.558107</td>\n",
       "      <td>2</td>\n",
       "    </tr>\n",
       "    <tr>\n",
       "      <th>Jugglers</th>\n",
       "      <td>0.566828</td>\n",
       "      <td>1</td>\n",
       "    </tr>\n",
       "    <tr>\n",
       "      <th>Comedian and writer</th>\n",
       "      <td>0.602085</td>\n",
       "      <td>2</td>\n",
       "    </tr>\n",
       "  </tbody>\n",
       "</table>\n",
       "</div>"
      ],
      "text/plain": [
       "                                 mean  count\n",
       "speaker_occupation                          \n",
       "Comedian                     0.512457      6\n",
       "Actor, writer                0.515152      1\n",
       "Actor, comedian, playwright  0.558107      2\n",
       "Jugglers                     0.566828      1\n",
       "Comedian and writer          0.602085      2"
      ]
     },
     "execution_count": 127,
     "metadata": {},
     "output_type": "execute_result"
    }
   ],
   "source": [
    "# Let's investigate the sample size\n",
    "ted.groupby('speaker_occupation').funny_rate.agg(['mean', 'count']).sort_values('mean').tail()"
   ]
  },
  {
   "cell_type": "code",
   "execution_count": 128,
   "metadata": {
    "ExecuteTime": {
     "end_time": "2019-08-30T20:19:21.815109Z",
     "start_time": "2019-08-30T20:19:21.807546Z"
    }
   },
   "outputs": [
    {
     "data": {
      "text/plain": [
       "count       2544\n",
       "unique      1458\n",
       "top       Writer\n",
       "freq          45\n",
       "Name: speaker_occupation, dtype: object"
      ]
     },
     "execution_count": 128,
     "metadata": {},
     "output_type": "execute_result"
    }
   ],
   "source": [
    "# Crap, the occupations are super unique!\n",
    "ted.speaker_occupation.describe()"
   ]
  },
  {
   "cell_type": "markdown",
   "metadata": {},
   "source": [
    "Let's focus on occupations that are well-represented in the data."
   ]
  },
  {
   "cell_type": "code",
   "execution_count": 131,
   "metadata": {
    "ExecuteTime": {
     "end_time": "2019-08-30T20:20:50.653829Z",
     "start_time": "2019-08-30T20:20:50.646358Z"
    }
   },
   "outputs": [
    {
     "data": {
      "text/plain": [
       "Writer                                        45\n",
       "Artist                                        34\n",
       "Designer                                      34\n",
       "Journalist                                    33\n",
       "Entrepreneur                                  31\n",
       "Architect                                     30\n",
       "Inventor                                      27\n",
       "Psychologist                                  26\n",
       "Photographer                                  25\n",
       "Filmmaker                                     21\n",
       "Educator                                      20\n",
       "Neuroscientist                                20\n",
       "Economist                                     20\n",
       "Author                                        20\n",
       "Philosopher                                   16\n",
       "Roboticist                                    16\n",
       "Biologist                                     15\n",
       "Physicist                                     14\n",
       "Musician                                      11\n",
       "Marine biologist                              11\n",
       "Activist                                      10\n",
       "Global health expert; data visionary          10\n",
       "Technologist                                  10\n",
       "Behavioral economist                           9\n",
       "Poet                                           9\n",
       "Historian                                      9\n",
       "Astronomer                                     9\n",
       "Oceanographer                                  9\n",
       "Singer/songwriter                              9\n",
       "Philanthropist                                 9\n",
       "                                              ..\n",
       "Artist and engineer                            1\n",
       "Musician and inventor                          1\n",
       "Creative technologist                          1\n",
       "3D printing entrepreneur                       1\n",
       "Lawyer, artist, human rights advocate          1\n",
       "Space explorer                                 1\n",
       "Innovation advocate                            1\n",
       "Literary critic                                1\n",
       "Entrepreneur, Lego enthusiast                  1\n",
       "Genomics researcher                            1\n",
       "Cyborg Anthropologist                          1\n",
       "Transgender activist                           1\n",
       "Human-computer interaction researcher          1\n",
       "Social observer                                1\n",
       "Entrepreneur, animator, philanthropist ...     1\n",
       "Pranksters                                     1\n",
       "Farmer and technologist                        1\n",
       "Cognitive scientist and design critic          1\n",
       "Poetry critic                                  1\n",
       "Neural stem cell researcher                    1\n",
       "Actor, producer, activist                      1\n",
       "Designer; creative director, Ideo              1\n",
       "Writer, blogger, author                        1\n",
       "Molecular animator                             1\n",
       "Cancer physician and writer                    1\n",
       "Bioelectronics innovator﻿                      1\n",
       "Creator, The 99                                1\n",
       "Inmates                                        1\n",
       "Artist, composer, engineer                     1\n",
       "Physician, disaster-preparedness activist      1\n",
       "Name: speaker_occupation, Length: 1458, dtype: int64"
      ]
     },
     "execution_count": 131,
     "metadata": {},
     "output_type": "execute_result"
    }
   ],
   "source": [
    "# Let's identify the occupations that are somewhat frequent\n",
    "ted.speaker_occupation.value_counts()"
   ]
  },
  {
   "cell_type": "markdown",
   "metadata": {},
   "source": [
    "Note that `value_counts()` returns a Series, which is useful to us."
   ]
  },
  {
   "cell_type": "code",
   "execution_count": 132,
   "metadata": {
    "ExecuteTime": {
     "end_time": "2019-08-30T20:21:25.862864Z",
     "start_time": "2019-08-30T20:21:25.857740Z"
    }
   },
   "outputs": [],
   "source": [
    "occupation_counts = ted.speaker_occupation.value_counts()"
   ]
  },
  {
   "cell_type": "code",
   "execution_count": 135,
   "metadata": {
    "ExecuteTime": {
     "end_time": "2019-08-30T20:22:00.708340Z",
     "start_time": "2019-08-30T20:22:00.704612Z"
    }
   },
   "outputs": [],
   "source": [
    "# We can filter this just like any other series\n",
    "frequent_occupations = occupation_counts[occupation_counts >= 5].index"
   ]
  },
  {
   "cell_type": "code",
   "execution_count": 136,
   "metadata": {
    "ExecuteTime": {
     "end_time": "2019-08-30T20:22:08.434310Z",
     "start_time": "2019-08-30T20:22:08.430122Z"
    }
   },
   "outputs": [
    {
     "data": {
      "text/plain": [
       "pandas.core.indexes.base.Index"
      ]
     },
     "execution_count": 136,
     "metadata": {},
     "output_type": "execute_result"
    }
   ],
   "source": [
    "type(frequent_occupations)"
   ]
  },
  {
   "cell_type": "markdown",
   "metadata": {},
   "source": [
    "^ We can treat an index like a list"
   ]
  },
  {
   "cell_type": "code",
   "execution_count": 145,
   "metadata": {
    "ExecuteTime": {
     "end_time": "2019-08-30T20:24:17.442252Z",
     "start_time": "2019-08-30T20:24:17.430647Z"
    }
   },
   "outputs": [
    {
     "data": {
      "text/html": [
       "<div>\n",
       "<style scoped>\n",
       "    .dataframe tbody tr th:only-of-type {\n",
       "        vertical-align: middle;\n",
       "    }\n",
       "\n",
       "    .dataframe tbody tr th {\n",
       "        vertical-align: top;\n",
       "    }\n",
       "\n",
       "    .dataframe thead th {\n",
       "        text-align: right;\n",
       "    }\n",
       "</style>\n",
       "<table border=\"1\" class=\"dataframe\">\n",
       "  <thead>\n",
       "    <tr style=\"text-align: right;\">\n",
       "      <th></th>\n",
       "      <th>mean</th>\n",
       "      <th>count</th>\n",
       "    </tr>\n",
       "    <tr>\n",
       "      <th>speaker_occupation</th>\n",
       "      <th></th>\n",
       "      <th></th>\n",
       "    </tr>\n",
       "  </thead>\n",
       "  <tbody>\n",
       "    <tr>\n",
       "      <th>Data scientist</th>\n",
       "      <td>0.184076</td>\n",
       "      <td>5</td>\n",
       "    </tr>\n",
       "    <tr>\n",
       "      <th>Producer</th>\n",
       "      <td>0.202531</td>\n",
       "      <td>5</td>\n",
       "    </tr>\n",
       "    <tr>\n",
       "      <th>Singer/songwriter</th>\n",
       "      <td>0.252205</td>\n",
       "      <td>9</td>\n",
       "    </tr>\n",
       "    <tr>\n",
       "      <th>Performance poet, multimedia artist</th>\n",
       "      <td>0.306468</td>\n",
       "      <td>6</td>\n",
       "    </tr>\n",
       "    <tr>\n",
       "      <th>Comedian</th>\n",
       "      <td>0.512457</td>\n",
       "      <td>6</td>\n",
       "    </tr>\n",
       "  </tbody>\n",
       "</table>\n",
       "</div>"
      ],
      "text/plain": [
       "                                         mean  count\n",
       "speaker_occupation                                  \n",
       "Data scientist                       0.184076      5\n",
       "Producer                             0.202531      5\n",
       "Singer/songwriter                    0.252205      9\n",
       "Performance poet, multimedia artist  0.306468      6\n",
       "Comedian                             0.512457      6"
      ]
     },
     "execution_count": 145,
     "metadata": {},
     "output_type": "execute_result"
    }
   ],
   "source": [
    "ted[ted.speaker_occupation.isin(frequent_occupations)].groupby('speaker_occupation').funny_rate.agg(['mean', 'count']).sort_values('mean').tail()"
   ]
  },
  {
   "cell_type": "markdown",
   "metadata": {},
   "source": [
    "There are still some weaknesses.\n",
    "\n",
    "We are not checking for unique speakers. If one funny speaker gives 8 talks, they will count as 8 toward their occupation."
   ]
  }
 ],
 "metadata": {
  "kernelspec": {
   "display_name": "Python 3",
   "language": "python",
   "name": "python3"
  },
  "language_info": {
   "codemirror_mode": {
    "name": "ipython",
    "version": 3
   },
   "file_extension": ".py",
   "mimetype": "text/x-python",
   "name": "python",
   "nbconvert_exporter": "python",
   "pygments_lexer": "ipython3",
   "version": "3.6.5"
  },
  "notify_time": "10",
  "toc": {
   "base_numbering": 1,
   "nav_menu": {},
   "number_sections": true,
   "sideBar": true,
   "skip_h1_title": false,
   "title_cell": "Table of Contents",
   "title_sidebar": "Contents",
   "toc_cell": false,
   "toc_position": {
    "height": "calc(100% - 180px)",
    "left": "10px",
    "top": "150px",
    "width": "256px"
   },
   "toc_section_display": true,
   "toc_window_display": false
  },
  "varInspector": {
   "cols": {
    "lenName": 16,
    "lenType": 16,
    "lenVar": 40
   },
   "kernels_config": {
    "python": {
     "delete_cmd_postfix": "",
     "delete_cmd_prefix": "del ",
     "library": "var_list.py",
     "varRefreshCmd": "print(var_dic_list())"
    },
    "r": {
     "delete_cmd_postfix": ") ",
     "delete_cmd_prefix": "rm(",
     "library": "var_list.r",
     "varRefreshCmd": "cat(var_dic_list()) "
    }
   },
   "types_to_exclude": [
    "module",
    "function",
    "builtin_function_or_method",
    "instance",
    "_Feature"
   ],
   "window_display": false
  }
 },
 "nbformat": 4,
 "nbformat_minor": 2
}
